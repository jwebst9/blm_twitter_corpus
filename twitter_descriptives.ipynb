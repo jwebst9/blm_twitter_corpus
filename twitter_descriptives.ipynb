{
 "cells": [
  {
   "cell_type": "markdown",
   "source": [
    "# Import Packages"
   ],
   "metadata": {
    "collapsed": false,
    "pycharm": {
     "name": "#%% md\n"
    }
   }
  },
  {
   "cell_type": "code",
   "execution_count": 1,
   "outputs": [
    {
     "name": "stderr",
     "output_type": "stream",
     "text": [
      "/Library/Frameworks/Python.framework/Versions/3.10/lib/python3.10/site-packages/gensim/matutils.py:22: DeprecationWarning: Please use `triu` from the `scipy.linalg` namespace, the `scipy.linalg.special_matrices` namespace is deprecated.\n",
      "  from scipy.linalg.special_matrices import triu\n",
      "/Library/Frameworks/Python.framework/Versions/3.10/lib/python3.10/site-packages/bertopic/_utils.py:4: DeprecationWarning: Please use `csr_matrix` from the `scipy.sparse` namespace, the `scipy.sparse.csr` namespace is deprecated.\n",
      "  from scipy.sparse.csr import csr_matrix\n",
      "/Library/Frameworks/Python.framework/Versions/3.10/lib/python3.10/site-packages/transformers/image_utils.py:222: DeprecationWarning: BILINEAR is deprecated and will be removed in Pillow 10 (2023-07-01). Use Resampling.BILINEAR instead.\n",
      "  def resize(self, image, size, resample=PIL.Image.BILINEAR, default_to_square=True, max_size=None):\n",
      "/Library/Frameworks/Python.framework/Versions/3.10/lib/python3.10/site-packages/plotly/graph_objs/__init__.py:288: DeprecationWarning: distutils Version classes are deprecated. Use packaging.version instead.\n",
      "  if LooseVersion(ipywidgets.__version__) >= LooseVersion(\"7.0.0\"):\n",
      "/Library/Frameworks/Python.framework/Versions/3.10/lib/python3.10/site-packages/plotly/graph_objs/__init__.py:288: DeprecationWarning: distutils Version classes are deprecated. Use packaging.version instead.\n",
      "  if LooseVersion(ipywidgets.__version__) >= LooseVersion(\"7.0.0\"):\n",
      "/Library/Frameworks/Python.framework/Versions/3.10/lib/python3.10/site-packages/plotly/graph_objs/__init__.py:288: DeprecationWarning: distutils Version classes are deprecated. Use packaging.version instead.\n",
      "  if LooseVersion(ipywidgets.__version__) >= LooseVersion(\"7.0.0\"):\n",
      "/Library/Frameworks/Python.framework/Versions/3.10/lib/python3.10/site-packages/plotly/graph_objs/__init__.py:288: DeprecationWarning: distutils Version classes are deprecated. Use packaging.version instead.\n",
      "  if LooseVersion(ipywidgets.__version__) >= LooseVersion(\"7.0.0\"):\n"
     ]
    },
    {
     "name": "stdout",
     "output_type": "stream",
     "text": [
      "*** Introductory Examples for the NLTK Book ***\n",
      "Loading text1, ..., text9 and sent1, ..., sent9\n",
      "Type the name of the text or sentence to view it.\n",
      "Type: 'texts()' or 'sents()' to list the materials.\n",
      "text1: Moby Dick by Herman Melville 1851\n",
      "text2: Sense and Sensibility by Jane Austen 1811\n",
      "text3: The Book of Genesis\n",
      "text4: Inaugural Address Corpus\n",
      "text5: Chat Corpus\n",
      "text6: Monty Python and the Holy Grail\n",
      "text7: Wall Street Journal\n",
      "text8: Personals Corpus\n",
      "text9: The Man Who Was Thursday by G . K . Chesterton 1908\n"
     ]
    }
   ],
   "source": [
    "import sys\n",
    "import pandas as pd\n",
    "import numpy as np\n",
    "\n",
    "\n",
    "import re\n",
    "import os\n",
    "import xlsxwriter\n",
    "import sklearn\n",
    "import tweepy\n",
    "import os.path  # downloading and uploading files, changing directories\n",
    "import openpyxl\n",
    "import ssl\n",
    "\n",
    "# cleaning\n",
    "import json\n",
    "import requests\n",
    "import emoji\n",
    "import regex\n",
    "import string\n",
    "from collections import Counter\n",
    "\n",
    "# visualizations\n",
    "import plotly.express as px\n",
    "import seaborn as sns\n",
    "import matplotlib.pyplot as plt\n",
    "%matplotlib inline\n",
    "import chart_studio\n",
    "import chart_studio.plotly as py\n",
    "import chart_studio.tools as tls\n",
    "\n",
    "# NLP libraries\n",
    "import spacy\n",
    "import pyLDAvis\n",
    "import gensim\n",
    "import pyLDAvis.gensim_models\n",
    "from spacy.tokenizer import Tokenizer\n",
    "from sklearn.decomposition import LatentDirichletAllocation, TruncatedSVD\n",
    "from sklearn.feature_extraction.text import CountVectorizer, TfidfVectorizer\n",
    "from sklearn.model_selection import GridSearchCV\n",
    "from pprint import pprint\n",
    "from wordcloud import STOPWORDS\n",
    "stopwords = set(STOPWORDS)\n",
    "from bertopic import BERTopic\n",
    "from nltk.book import *\n",
    "import nltk # natural language processing e.g., tokenization\n",
    "import tensorflow\n",
    "import torch\n",
    "torch.has_mps\n",
    "\n",
    "# Linkage functions\n",
    "from scipy.cluster import hierarchy as sch"
   ],
   "metadata": {
    "collapsed": false,
    "pycharm": {
     "name": "#%%\n"
    }
   }
  },
  {
   "cell_type": "markdown",
   "source": [
    "# Conversion csvs to dataframe 2019, 2020-01, 2020-02, 2020-03, 2020-04, 2020-05, 2020-06"
   ],
   "metadata": {
    "collapsed": false,
    "pycharm": {
     "name": "#%% md\n"
    }
   }
  },
  {
   "cell_type": "code",
   "execution_count": 2,
   "outputs": [],
   "source": [
    "# df = pd.read_csv ('file_name.csv')\n",
    "# df = pd.read_csv(filename, header=None, names=cols)\n",
    "#if (df.iloc[0] == cols).all():\n",
    "    #df = df[1:].reset_index(drop=True)\n",
    "cols = [\"tweet_id\", \"BLM\", \"ALM\", \"Blue\"]\n",
    "# 2019\n",
    "# 2020-01\n",
    "df2020_01 = pd.read_csv(\"/Users/joni-leighwebster/Documents/GitHub/blm_twitter_corpus/twitter/2020/2020-01 copy.csv\") #inserted column names\n",
    "# 2020-02\n",
    "df2020_02 = pd.read_csv(\"/Users/joni-leighwebster/Documents/GitHub/blm_twitter_corpus/twitter/2020/2020-02.csv\", header=None, names=cols) #add column headers\n",
    "if (df2020_02.iloc[0]==cols).all():\n",
    "    df2020_02 = df2020_02[1:].reset_index(drop=True)\n",
    "# 2020-03\n",
    "# 2020-04\n",
    "# 2020-05\n",
    "# 2020-06"
   ],
   "metadata": {
    "collapsed": false,
    "pycharm": {
     "name": "#%%\n"
    }
   }
  },
  {
   "cell_type": "code",
   "execution_count": 3,
   "outputs": [
    {
     "name": "stdout",
     "output_type": "stream",
     "text": [
      "<class 'pandas.core.frame.DataFrame'>\n",
      "RangeIndex: 100796 entries, 0 to 100795\n",
      "Data columns (total 4 columns):\n",
      " #   Column    Non-Null Count   Dtype\n",
      "---  ------    --------------   -----\n",
      " 0   tweet_id  100796 non-null  int64\n",
      " 1   BLM       100796 non-null  int64\n",
      " 2   ALM       100796 non-null  int64\n",
      " 3   Blue      100796 non-null  int64\n",
      "dtypes: int64(4)\n",
      "memory usage: 3.1 MB\n"
     ]
    },
    {
     "data": {
      "text/plain": "              tweet_id  BLM  ALM  Blue\n0  1212161788533342208    0    0     1\n1  1212161860600041475    1    0     0\n2  1212162108596588544    1    0     0\n3  1212162110727376897    1    0     0\n4  1212162171544784899    1    0     0",
      "text/html": "<div>\n<style scoped>\n    .dataframe tbody tr th:only-of-type {\n        vertical-align: middle;\n    }\n\n    .dataframe tbody tr th {\n        vertical-align: top;\n    }\n\n    .dataframe thead th {\n        text-align: right;\n    }\n</style>\n<table border=\"1\" class=\"dataframe\">\n  <thead>\n    <tr style=\"text-align: right;\">\n      <th></th>\n      <th>tweet_id</th>\n      <th>BLM</th>\n      <th>ALM</th>\n      <th>Blue</th>\n    </tr>\n  </thead>\n  <tbody>\n    <tr>\n      <th>0</th>\n      <td>1212161788533342208</td>\n      <td>0</td>\n      <td>0</td>\n      <td>1</td>\n    </tr>\n    <tr>\n      <th>1</th>\n      <td>1212161860600041475</td>\n      <td>1</td>\n      <td>0</td>\n      <td>0</td>\n    </tr>\n    <tr>\n      <th>2</th>\n      <td>1212162108596588544</td>\n      <td>1</td>\n      <td>0</td>\n      <td>0</td>\n    </tr>\n    <tr>\n      <th>3</th>\n      <td>1212162110727376897</td>\n      <td>1</td>\n      <td>0</td>\n      <td>0</td>\n    </tr>\n    <tr>\n      <th>4</th>\n      <td>1212162171544784899</td>\n      <td>1</td>\n      <td>0</td>\n      <td>0</td>\n    </tr>\n  </tbody>\n</table>\n</div>"
     },
     "execution_count": 3,
     "metadata": {},
     "output_type": "execute_result"
    }
   ],
   "source": [
    "# check info, shape, and describe\n",
    "df2020_01.info()\n",
    "df2020_01.head()"
   ],
   "metadata": {
    "collapsed": false,
    "pycharm": {
     "name": "#%%\n"
    }
   }
  },
  {
   "cell_type": "code",
   "execution_count": 4,
   "outputs": [
    {
     "name": "stdout",
     "output_type": "stream",
     "text": [
      "<class 'pandas.core.frame.DataFrame'>\n",
      "RangeIndex: 280274 entries, 0 to 280273\n",
      "Data columns (total 4 columns):\n",
      " #   Column    Non-Null Count   Dtype\n",
      "---  ------    --------------   -----\n",
      " 0   tweet_id  280274 non-null  int64\n",
      " 1   BLM       280274 non-null  int64\n",
      " 2   ALM       280274 non-null  int64\n",
      " 3   Blue      280274 non-null  int64\n",
      "dtypes: int64(4)\n",
      "memory usage: 8.6 MB\n"
     ]
    },
    {
     "data": {
      "text/plain": "              tweet_id  BLM  ALM  Blue\n0  1223396055263449088    0    0     1\n1  1223396189451759621    1    0     0\n2  1223396291813744641    0    1     0\n3  1223396392602939402    1    0     0\n4  1223396445266546688    1    0     0",
      "text/html": "<div>\n<style scoped>\n    .dataframe tbody tr th:only-of-type {\n        vertical-align: middle;\n    }\n\n    .dataframe tbody tr th {\n        vertical-align: top;\n    }\n\n    .dataframe thead th {\n        text-align: right;\n    }\n</style>\n<table border=\"1\" class=\"dataframe\">\n  <thead>\n    <tr style=\"text-align: right;\">\n      <th></th>\n      <th>tweet_id</th>\n      <th>BLM</th>\n      <th>ALM</th>\n      <th>Blue</th>\n    </tr>\n  </thead>\n  <tbody>\n    <tr>\n      <th>0</th>\n      <td>1223396055263449088</td>\n      <td>0</td>\n      <td>0</td>\n      <td>1</td>\n    </tr>\n    <tr>\n      <th>1</th>\n      <td>1223396189451759621</td>\n      <td>1</td>\n      <td>0</td>\n      <td>0</td>\n    </tr>\n    <tr>\n      <th>2</th>\n      <td>1223396291813744641</td>\n      <td>0</td>\n      <td>1</td>\n      <td>0</td>\n    </tr>\n    <tr>\n      <th>3</th>\n      <td>1223396392602939402</td>\n      <td>1</td>\n      <td>0</td>\n      <td>0</td>\n    </tr>\n    <tr>\n      <th>4</th>\n      <td>1223396445266546688</td>\n      <td>1</td>\n      <td>0</td>\n      <td>0</td>\n    </tr>\n  </tbody>\n</table>\n</div>"
     },
     "execution_count": 4,
     "metadata": {},
     "output_type": "execute_result"
    }
   ],
   "source": [
    "df2020_02.info()\n",
    "df2020_02.head()"
   ],
   "metadata": {
    "collapsed": false,
    "pycharm": {
     "name": "#%%\n"
    }
   }
  },
  {
   "cell_type": "markdown",
   "source": [
    "# Remove ids that do not = BLM 1; for 2019 tweets only keep those from sept to december"
   ],
   "metadata": {
    "collapsed": false,
    "pycharm": {
     "name": "#%% md\n"
    }
   }
  },
  {
   "cell_type": "code",
   "execution_count": 5,
   "outputs": [],
   "source": [
    "blm_2020_01 = df2020_01.loc[df2020_01['BLM']==1]\n",
    "blm_2020_02 = df2020_02.loc[df2020_02['BLM']==1]"
   ],
   "metadata": {
    "collapsed": false,
    "pycharm": {
     "name": "#%%\n"
    }
   }
  },
  {
   "cell_type": "code",
   "execution_count": 6,
   "outputs": [
    {
     "name": "stdout",
     "output_type": "stream",
     "text": [
      "<class 'pandas.core.frame.DataFrame'>\n",
      "Int64Index: 40872 entries, 1 to 100795\n",
      "Data columns (total 4 columns):\n",
      " #   Column    Non-Null Count  Dtype\n",
      "---  ------    --------------  -----\n",
      " 0   tweet_id  40872 non-null  int64\n",
      " 1   BLM       40872 non-null  int64\n",
      " 2   ALM       40872 non-null  int64\n",
      " 3   Blue      40872 non-null  int64\n",
      "dtypes: int64(4)\n",
      "memory usage: 1.6 MB\n",
      "<class 'pandas.core.frame.DataFrame'>\n",
      "Int64Index: 188764 entries, 1 to 280272\n",
      "Data columns (total 4 columns):\n",
      " #   Column    Non-Null Count   Dtype\n",
      "---  ------    --------------   -----\n",
      " 0   tweet_id  188764 non-null  int64\n",
      " 1   BLM       188764 non-null  int64\n",
      " 2   ALM       188764 non-null  int64\n",
      " 3   Blue      188764 non-null  int64\n",
      "dtypes: int64(4)\n",
      "memory usage: 7.2 MB\n"
     ]
    },
    {
     "data": {
      "text/plain": "           tweet_id       BLM            ALM           Blue\ncount  1.887640e+05  188764.0  188764.000000  188764.000000\nmean   1.226693e+18       1.0       0.008678       0.056790\nstd    2.275029e+15       0.0       0.092748       0.231442\nmin    1.223396e+18       1.0       0.000000       0.000000\n25%    1.225509e+18       1.0       0.000000       0.000000\n50%    1.225777e+18       1.0       0.000000       0.000000\n75%    1.226633e+18       1.0       0.000000       0.000000\nmax    1.233905e+18       1.0       1.000000       1.000000",
      "text/html": "<div>\n<style scoped>\n    .dataframe tbody tr th:only-of-type {\n        vertical-align: middle;\n    }\n\n    .dataframe tbody tr th {\n        vertical-align: top;\n    }\n\n    .dataframe thead th {\n        text-align: right;\n    }\n</style>\n<table border=\"1\" class=\"dataframe\">\n  <thead>\n    <tr style=\"text-align: right;\">\n      <th></th>\n      <th>tweet_id</th>\n      <th>BLM</th>\n      <th>ALM</th>\n      <th>Blue</th>\n    </tr>\n  </thead>\n  <tbody>\n    <tr>\n      <th>count</th>\n      <td>1.887640e+05</td>\n      <td>188764.0</td>\n      <td>188764.000000</td>\n      <td>188764.000000</td>\n    </tr>\n    <tr>\n      <th>mean</th>\n      <td>1.226693e+18</td>\n      <td>1.0</td>\n      <td>0.008678</td>\n      <td>0.056790</td>\n    </tr>\n    <tr>\n      <th>std</th>\n      <td>2.275029e+15</td>\n      <td>0.0</td>\n      <td>0.092748</td>\n      <td>0.231442</td>\n    </tr>\n    <tr>\n      <th>min</th>\n      <td>1.223396e+18</td>\n      <td>1.0</td>\n      <td>0.000000</td>\n      <td>0.000000</td>\n    </tr>\n    <tr>\n      <th>25%</th>\n      <td>1.225509e+18</td>\n      <td>1.0</td>\n      <td>0.000000</td>\n      <td>0.000000</td>\n    </tr>\n    <tr>\n      <th>50%</th>\n      <td>1.225777e+18</td>\n      <td>1.0</td>\n      <td>0.000000</td>\n      <td>0.000000</td>\n    </tr>\n    <tr>\n      <th>75%</th>\n      <td>1.226633e+18</td>\n      <td>1.0</td>\n      <td>0.000000</td>\n      <td>0.000000</td>\n    </tr>\n    <tr>\n      <th>max</th>\n      <td>1.233905e+18</td>\n      <td>1.0</td>\n      <td>1.000000</td>\n      <td>1.000000</td>\n    </tr>\n  </tbody>\n</table>\n</div>"
     },
     "execution_count": 6,
     "metadata": {},
     "output_type": "execute_result"
    }
   ],
   "source": [
    "# check shape and info\n",
    "blm_2020_01.info()\n",
    "blm_2020_01.describe()\n",
    "blm_2020_02.info()\n",
    "blm_2020_02.describe()"
   ],
   "metadata": {
    "collapsed": false,
    "pycharm": {
     "name": "#%%\n"
    }
   }
  },
  {
   "cell_type": "code",
   "execution_count": 7,
   "outputs": [],
   "source": [
    "# check head"
   ],
   "metadata": {
    "collapsed": false,
    "pycharm": {
     "name": "#%%\n"
    }
   }
  },
  {
   "cell_type": "markdown",
   "source": [
    "# Convert json files to dfs"
   ],
   "metadata": {
    "collapsed": false,
    "pycharm": {
     "name": "#%% md\n"
    }
   }
  },
  {
   "cell_type": "code",
   "execution_count": 18,
   "outputs": [],
   "source": [
    "pd.options.display.max_colwidth = 2000\n",
    "import flatten_json\n",
    "from flatten_json import flatten"
   ],
   "metadata": {
    "collapsed": false,
    "pycharm": {
     "name": "#%%\n"
    }
   }
  },
  {
   "cell_type": "markdown",
   "source": [
    "## Flatten tweets"
   ],
   "metadata": {
    "collapsed": false,
    "pycharm": {
     "name": "#%% md\n"
    }
   }
  },
  {
   "cell_type": "code",
   "execution_count": 10,
   "outputs": [],
   "source": [
    "def read_json_file(file): #read in as json file\n",
    "    with open(file, \"r\") as r:\n",
    "        response = r.read()\n",
    "        response = response.replace('\\n', '')\n",
    "        response = response.replace('}{', '},{')\n",
    "        response = \"[\" + response + \"]\"\n",
    "        return json.loads(response)"
   ],
   "metadata": {
    "collapsed": false,
    "pycharm": {
     "name": "#%%\n"
    }
   }
  },
  {
   "cell_type": "code",
   "execution_count": null,
   "outputs": [],
   "source": [
    "data_2019 = read_json_file(\"/Users/joni-leighwebster/Documents/GitHub/blm_twitter_corpus/twitter/2019/2019blm.jsonl\")"
   ],
   "metadata": {
    "collapsed": false,
    "pycharm": {
     "name": "#%%\n",
     "is_executing": true
    }
   }
  },
  {
   "cell_type": "code",
   "execution_count": null,
   "outputs": [],
   "source": [
    "data_2020_01 = read_json_file(\"/Users/joni-leighwebster/Documents/GitHub/blm_twitter_corpus/twitter/2020/2020-01blm.jsonl\")"
   ],
   "metadata": {
    "collapsed": false,
    "pycharm": {
     "name": "#%%\n"
    }
   }
  },
  {
   "cell_type": "code",
   "execution_count": null,
   "outputs": [],
   "source": [
    "data_2020_02 = read_json_file(\"/Users/joni-leighwebster/Documents/GitHub/blm_twitter_corpus/twitter/2020/2020-02blm.jsonl\")"
   ],
   "metadata": {
    "collapsed": false,
    "pycharm": {
     "name": "#%%\n"
    }
   }
  },
  {
   "cell_type": "code",
   "execution_count": null,
   "outputs": [],
   "source": [
    "data_2020_03 = read_json_file(\"/Users/joni-leighwebster/Documents/GitHub/blm_twitter_corpus/twitter/2020/2020-03blm.jsonl\")"
   ],
   "metadata": {
    "collapsed": false,
    "pycharm": {
     "name": "#%%\n"
    }
   }
  },
  {
   "cell_type": "code",
   "execution_count": null,
   "outputs": [],
   "source": [
    "data_2020_04 = read_json_file(\"/Users/joni-leighwebster/Documents/GitHub/blm_twitter_corpus/twitter/2020/2020-04blm.jsonl\")\n",
    "#data_2020_05 = read_json_file(\"/Users/joni-leighwebster/Documents/GitHub/blm_twitter_corpus/twitter/2020/2020-05blm.jsonl\")\n",
    "#data_2020_06 = read_json_file(\"/Users/joni-leighwebster/Documents/GitHub/blm_twitter_corpus/twitter/2020/2020-06blm.jsonl\")"
   ],
   "metadata": {
    "collapsed": false,
    "pycharm": {
     "name": "#%%\n"
    }
   }
  },
  {
   "cell_type": "code",
   "execution_count": 19,
   "outputs": [],
   "source": [
    "tweets_2019 = pd.json_normalize((data_2019)) #flatten tweets using flatten_json library\n",
    "tweets_2020_01 = pd.json_normalize(data_2020_01)\n",
    "tweets_2020_02 = pd.json_normalize(data_2020_02)\n",
    "tweets_2020_03 = pd.json_normalize(data_2020_03)\n",
    "tweets_2020_04 = pd.json_normalize(data_2020_04)\n",
    "#tweets_2020_05 = pd.json_normalize(data_2020_05)\n",
    "#tweets_2020_06 = pd.json_normalize(data_2020_06)"
   ],
   "metadata": {
    "collapsed": false,
    "pycharm": {
     "name": "#%%\n"
    }
   }
  },
  {
   "cell_type": "code",
   "execution_count": 13,
   "outputs": [],
   "source": [
    "## select only certain columns (learn how to create a function for this)\n",
    "flat_2019 = tweets_2019[['created_at', 'id_str', 'full_text', 'place', 'is_quote_status', 'retweet_count', 'favorite_count', 'favorited', 'retweeted',  'lang', 'entities.hashtags', 'entities.symbols', 'user.id_str', 'user.location', 'user.followers_count', 'user.friends_count', 'in_reply_to_status_id_str', 'retweeted_status.full_text', 'quoted_status_id_str', 'user.statuses_count']]\n",
    "\n",
    "flat_2020_01 = tweets_2020_01[['created_at', 'id_str', 'full_text', 'place', 'is_quote_status', 'retweet_count', 'favorite_count', 'favorited', 'retweeted',  'lang', 'entities.hashtags', 'entities.symbols', 'user.id_str', 'user.location', 'user.followers_count', 'user.friends_count', 'in_reply_to_status_id_str', 'retweeted_status.full_text', 'quoted_status_id_str', 'user.statuses_count']]\n",
    "\n",
    "flat_2020_02 = tweets_2020_02[['created_at', 'id_str', 'full_text', 'place', 'is_quote_status', 'retweet_count', 'favorite_count', 'favorited', 'retweeted',  'lang', 'entities.hashtags', 'entities.symbols', 'user.id_str', 'user.location', 'user.followers_count', 'user.friends_count', 'in_reply_to_status_id_str', 'retweeted_status.full_text', 'quoted_status_id_str', 'user.statuses_count']]\n",
    "\n",
    "flat_2020_03 = tweets_2020_03[['created_at', 'id_str', 'full_text', 'place', 'is_quote_status', 'retweet_count', 'favorite_count', 'favorited', 'retweeted',  'lang', 'entities.hashtags', 'entities.symbols', 'user.id_str', 'user.location', 'user.followers_count', 'user.friends_count', 'in_reply_to_status_id_str', 'retweeted_status.full_text', 'quoted_status_id_str', 'user.statuses_count']]\n",
    "\n",
    "flat_2020_04 = tweets_2020_04[['created_at', 'id_str', 'full_text', 'place', 'is_quote_status', 'retweet_count', 'favorite_count', 'favorited', 'retweeted',  'lang', 'entities.hashtags', 'entities.symbols', 'user.id_str', 'user.location', 'user.followers_count', 'user.friends_count', 'in_reply_to_status_id_str', 'retweeted_status.full_text', 'quoted_status_id_str', 'user.statuses_count']]\n",
    "\n",
    "#flat_2020_05 = tweets_2020_05[['created_at', 'id_str', 'full_text', 'place', 'is_quote_status', 'retweet_count', 'favorite_count', 'favorited', 'retweeted',  'lang', 'entities.hashtags', 'entities.symbols', 'user.id_str', 'user.location', 'user.followers_count', 'user.friends_count', 'in_reply_to_status_id_str', 'retweeted_status.full_text', 'quoted_status_id_str', 'user.statuses_count']]\n",
    "\n",
    "#flat_2020_06 = tweets_2020_06[['created_at', 'id_str', 'full_text', 'place', 'is_quote_status', 'retweet_count', 'favorite_count', 'favorited', 'retweeted',  'lang', 'entities.hashtags', 'entities.symbols', 'user.id_str', 'user.location', 'user.followers_count', 'user.friends_count', 'in_reply_to_status_id_str', 'retweeted_status.full_text', 'quoted_status_id_str', 'user.statuses_count']]"
   ],
   "metadata": {
    "collapsed": false,
    "pycharm": {
     "name": "#%%\n"
    }
   }
  },
  {
   "cell_type": "markdown",
   "source": [
    "## Select for language"
   ],
   "metadata": {
    "collapsed": false,
    "pycharm": {
     "name": "#%% md\n"
    }
   }
  },
  {
   "cell_type": "code",
   "execution_count": 23,
   "outputs": [],
   "source": [
    "# check tweets to see if random sample is presented in engilsh"
   ],
   "metadata": {
    "collapsed": false,
    "pycharm": {
     "name": "#%%\n"
    }
   }
  },
  {
   "cell_type": "code",
   "execution_count": 15,
   "outputs": [],
   "source": [
    "# keep if language is in en (create a function for this)\n",
    "#en_2020_01 = flat_2020_01.loc[flat_2020_01['lang']=='en']"
   ],
   "metadata": {
    "collapsed": false,
    "pycharm": {
     "name": "#%%\n"
    }
   }
  },
  {
   "cell_type": "code",
   "execution_count": 16,
   "outputs": [
    {
     "name": "stdout",
     "output_type": "stream",
     "text": [
      "<class 'pandas.core.frame.DataFrame'>\n",
      "Int64Index: 59322 entries, 0 to 65824\n",
      "Data columns (total 16 columns):\n",
      " #   Column                 Non-Null Count  Dtype              \n",
      "---  ------                 --------------  -----              \n",
      " 0   tweet_id_str           59322 non-null  int64              \n",
      " 1   tweet_id               59322 non-null  int64              \n",
      " 2   created_at             59322 non-null  datetime64[ns, UTC]\n",
      " 3   full_text              59322 non-null  object             \n",
      " 4   entities               59322 non-null  object             \n",
      " 5   in_reply_to_status_id  2875 non-null   float64            \n",
      " 6   in_reply_to_user_id    3378 non-null   float64            \n",
      " 7   user                   59322 non-null  object             \n",
      " 8   retweeted_status       40089 non-null  object             \n",
      " 9   is_quote_status        59322 non-null  bool               \n",
      " 10  retweet_count          59322 non-null  int64              \n",
      " 11  favorite_count         59322 non-null  int64              \n",
      " 12  favorited              59322 non-null  bool               \n",
      " 13  retweeted              59322 non-null  bool               \n",
      " 14  lang                   59322 non-null  object             \n",
      " 15  quoted_status_id       12227 non-null  float64            \n",
      "dtypes: bool(3), datetime64[ns, UTC](1), float64(3), int64(4), object(5)\n",
      "memory usage: 6.5+ MB\n"
     ]
    }
   ],
   "source": [
    "# check info\n",
    "eng_2020_01.info()"
   ],
   "metadata": {
    "collapsed": false,
    "pycharm": {
     "name": "#%%\n"
    }
   }
  },
  {
   "cell_type": "markdown",
   "source": [
    "# Merge csv file based on tweet id on left and remove rows with no tweet information"
   ],
   "metadata": {
    "collapsed": false,
    "pycharm": {
     "name": "#%% md\n"
    }
   }
  },
  {
   "cell_type": "code",
   "execution_count": null,
   "outputs": [],
   "source": [],
   "metadata": {
    "collapsed": false,
    "pycharm": {
     "name": "#%%\n"
    }
   }
  },
  {
   "cell_type": "markdown",
   "source": [
    "# Export tweets for analysis - list of user_ids"
   ],
   "metadata": {
    "collapsed": false,
    "pycharm": {
     "name": "#%% md\n"
    }
   },
   "execution_count": 1
  },
  {
   "cell_type": "markdown",
   "source": [
    "## a. random sample of tweet_ids (.333 of each  df by date)"
   ],
   "metadata": {
    "collapsed": false,
    "pycharm": {
     "name": "#%% md\n"
    }
   }
  },
  {
   "cell_type": "markdown",
   "source": [
    "## b. keep only the user_ids"
   ],
   "metadata": {
    "collapsed": false,
    "pycharm": {
     "name": "#%% md\n"
    }
   }
  },
  {
   "cell_type": "markdown",
   "source": [
    "# Save as new file by year and reupload data for analysis"
   ],
   "metadata": {
    "collapsed": false,
    "pycharm": {
     "name": "#%% md\n"
    }
   }
  },
  {
   "cell_type": "code",
   "execution_count": null,
   "outputs": [],
   "source": [
    "# combine all datasets into new dataframe"
   ],
   "metadata": {
    "collapsed": false,
    "pycharm": {
     "name": "#%%\n"
    }
   }
  },
  {
   "cell_type": "markdown",
   "source": [
    "# Descriptive statistics on those ids available"
   ],
   "metadata": {
    "collapsed": false,
    "pycharm": {
     "name": "#%% md\n"
    }
   }
  },
  {
   "cell_type": "markdown",
   "source": [
    "## a. Summary data"
   ],
   "metadata": {
    "collapsed": false,
    "pycharm": {
     "name": "#%% md\n"
    }
   }
  },
  {
   "cell_type": "markdown",
   "source": [
    "## b. Graphic representations (trend graphs of important data # of tweets, # of tweets by demographic characteristics victim or tweeter)"
   ],
   "metadata": {
    "collapsed": false,
    "pycharm": {
     "name": "#%% md\n"
    }
   }
  },
  {
   "cell_type": "code",
   "execution_count": null,
   "outputs": [],
   "source": [],
   "metadata": {
    "collapsed": false,
    "pycharm": {
     "name": "#%%\n"
    }
   }
  }
 ],
 "metadata": {
  "kernelspec": {
   "display_name": "Python 3",
   "language": "python",
   "name": "python3"
  },
  "language_info": {
   "codemirror_mode": {
    "name": "ipython",
    "version": 2
   },
   "file_extension": ".py",
   "mimetype": "text/x-python",
   "name": "python",
   "nbconvert_exporter": "python",
   "pygments_lexer": "ipython2",
   "version": "2.7.6"
  }
 },
 "nbformat": 4,
 "nbformat_minor": 0
}